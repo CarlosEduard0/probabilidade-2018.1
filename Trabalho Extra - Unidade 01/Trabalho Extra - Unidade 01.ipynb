{
 "cells": [
  {
   "cell_type": "markdown",
   "metadata": {},
   "source": [
    "### Trabalho Extra - Unidade 01\n",
    "* **Aluno:** Carlos Eduardo Azevedo dos Santos  \n",
    "* **Matrícula:** 20170066970"
   ]
  },
  {
   "cell_type": "markdown",
   "metadata": {},
   "source": [
    "# Mega-Sena\n",
    "A Mega-Sena tem sido a maior modalidade lotérica do Brasil, sendo uma entre as dez modalidades atuais das loterias da Caixa (Caixa Econômica Federal), com sorteios ordinários duas vezes por semana, além da Mega-Sena da Virada e outras modalidades de prêmios, devido a baixa arrecadação de Mercado.\n",
    "\n",
    "Para ganhar o prêmio máximo da Mega-Sena — a sena — , é necessário acertar a sena, o que significa obter coincidência entre seis dos números apostados e os seis números sorteados, de um total de sessenta dezenas (de 01 a 60), independentemente da ordem da aposta ou da ordem do sorteio. O concurso prevê também a chance de se ganhar parte do prêmio máximo, pelo acerto da quina (apenas cinco dos números sorteados), ou da quadra (apenas quatro dos números sorteados), com prêmios significativamente menores que aquele que seria pago na ocorrência do acerto da sena, o da quina maior que o da quadra. O preço da aposta simples da Mega-Sena (seis dezenas) é de 3,50 reais desde o dia 24 de maio de 2015. O último reajuste havia sido em 11 de maio de 2014, quando a aposta simples passou a custar 2,50 reais.\n",
    "\n",
    "## Histórico\n",
    "A Mega-Sena foi lançada em março de 1996 e já premiou mais de 200 ganhadores na faixa principal. Em 10 de outubro de 1999 foi pago um prêmio no valor de aproximadamente 64 milhões de reais para um apostador de Salvador, Bahia. O maior prêmio em concursos regulares — e maior premiação individual já registrada — foi pago para um único apostador: mais de R$ 205 milhões, em 25 de novembro de 2015.\n",
    "\n",
    "Em 2008 foi lançada a Mega-Sena da Virada. O maior prêmio já pago na história da Mega Sena e das loterias no Brasil foi a Mega da Virada, concurso de número 2000, realizado em 31 de dezembro de 2017, que teve um total de quase R$ 307 milhões distribuídos entre dezessete bilhetes premiados com cerca de 18 milhões de reais cada. Na tabela abaixo estão listados os quinze maiores prêmios já distribuídos pela Mega Sena, suas datas de sorteio, o número de bilhetes premiados com a Sena e os números sorteados.  \n",
    "*fonte: https://pt.wikipedia.org/wiki/Mega-Sena*"
   ]
  },
  {
   "cell_type": "code",
   "execution_count": 69,
   "metadata": {},
   "outputs": [],
   "source": [
    "import matplotlib.pyplot as plt\n",
    "import pandas as pd\n",
    "%matplotlib inline\n",
    "dados = pd.ExcelFile(\"basedados.xlsx\").parse()\n",
    "dados[\"Premio_Sena\"] = dados.Ganhadores_Sena * dados.Rateio_Sena\n",
    "dados[\"Premio_Quina\"] = dados.Ganhadores_Quina * dados.Rateio_Quina\n",
    "dados[\"Premio_Quadra\"] = dados.Ganhadores_Quadra * dados.Rateio_Quadra"
   ]
  },
  {
   "cell_type": "markdown",
   "metadata": {},
   "source": [
    "### Maior prêmio pago a apenas uma pessoa:"
   ]
  },
  {
   "cell_type": "code",
   "execution_count": 70,
   "metadata": {
    "scrolled": false
   },
   "outputs": [
    {
     "data": {
      "text/html": [
       "<div>\n",
       "<style scoped>\n",
       "    .dataframe tbody tr th:only-of-type {\n",
       "        vertical-align: middle;\n",
       "    }\n",
       "\n",
       "    .dataframe tbody tr th {\n",
       "        vertical-align: top;\n",
       "    }\n",
       "\n",
       "    .dataframe thead th {\n",
       "        text-align: right;\n",
       "    }\n",
       "</style>\n",
       "<table border=\"1\" class=\"dataframe\">\n",
       "  <thead>\n",
       "    <tr style=\"text-align: right;\">\n",
       "      <th></th>\n",
       "      <th>Concurso</th>\n",
       "      <th>Data Sorteio</th>\n",
       "      <th>Dezena1</th>\n",
       "      <th>Dezena2</th>\n",
       "      <th>Dezena3</th>\n",
       "      <th>Dezena4</th>\n",
       "      <th>Dezena5</th>\n",
       "      <th>Dezena6</th>\n",
       "      <th>Arrecadacao_Total</th>\n",
       "      <th>Ganhadores_Sena</th>\n",
       "      <th>...</th>\n",
       "      <th>Ganhadores_Quina</th>\n",
       "      <th>Rateio_Quina</th>\n",
       "      <th>Ganhadores_Quadra</th>\n",
       "      <th>Rateio_Quadra</th>\n",
       "      <th>Acumulado</th>\n",
       "      <th>Valor_Acumulado</th>\n",
       "      <th>Estimativa_Prêmio</th>\n",
       "      <th>Premio_Sena</th>\n",
       "      <th>Premio_Quina</th>\n",
       "      <th>Premio_Quadra</th>\n",
       "    </tr>\n",
       "  </thead>\n",
       "  <tbody>\n",
       "    <tr>\n",
       "      <th>1763</th>\n",
       "      <td>1764</td>\n",
       "      <td>2015-11-25</td>\n",
       "      <td>6</td>\n",
       "      <td>7</td>\n",
       "      <td>41</td>\n",
       "      <td>39</td>\n",
       "      <td>29</td>\n",
       "      <td>55</td>\n",
       "      <td>401527962.5</td>\n",
       "      <td>1</td>\n",
       "      <td>...</td>\n",
       "      <td>401</td>\n",
       "      <td>58622.54</td>\n",
       "      <td>33850</td>\n",
       "      <td>992.09</td>\n",
       "      <td>NÃO</td>\n",
       "      <td>0.0</td>\n",
       "      <td>100000000</td>\n",
       "      <td>2.053298e+08</td>\n",
       "      <td>23507638.54</td>\n",
       "      <td>33582246.5</td>\n",
       "    </tr>\n",
       "  </tbody>\n",
       "</table>\n",
       "<p>1 rows × 21 columns</p>\n",
       "</div>"
      ],
      "text/plain": [
       "      Concurso Data Sorteio  Dezena1  Dezena2  Dezena3  Dezena4  Dezena5  \\\n",
       "1763      1764   2015-11-25        6        7       41       39       29   \n",
       "\n",
       "      Dezena6  Arrecadacao_Total  Ganhadores_Sena      ...        \\\n",
       "1763       55        401527962.5                1      ...         \n",
       "\n",
       "      Ganhadores_Quina  Rateio_Quina  Ganhadores_Quadra  Rateio_Quadra  \\\n",
       "1763               401      58622.54              33850         992.09   \n",
       "\n",
       "      Acumulado Valor_Acumulado  Estimativa_Prêmio   Premio_Sena  \\\n",
       "1763        NÃO             0.0          100000000  2.053298e+08   \n",
       "\n",
       "      Premio_Quina  Premio_Quadra  \n",
       "1763   23507638.54     33582246.5  \n",
       "\n",
       "[1 rows x 21 columns]"
      ]
     },
     "execution_count": 70,
     "metadata": {},
     "output_type": "execute_result"
    }
   ],
   "source": [
    "dados[dados.Premio_Sena == dados[dados.Ganhadores_Sena == 1].max().Premio_Sena]"
   ]
  },
  {
   "cell_type": "markdown",
   "metadata": {},
   "source": [
    "### O aumento do valor do prêmio ao longo dos anos"
   ]
  },
  {
   "cell_type": "code",
   "execution_count": 71,
   "metadata": {
    "scrolled": true
   },
   "outputs": [
    {
     "data": {
      "image/png": "[encoded data removed]",
      "text/plain": [
       "<matplotlib.figure.Figure at 0x7fd25d1a5ac8>"
      ]
     },
     "metadata": {},
     "output_type": "display_data"
    }
   ],
   "source": [
    "dados.plot(kind = \"line\", x = \"Data Sorteio\", y = \"Premio_Sena\")\n",
    "plt.show()"
   ]
  },
  {
   "cell_type": "markdown",
   "metadata": {},
   "source": [
    "### Valor ganho por jogo na Quadra"
   ]
  },
  {
   "cell_type": "code",
   "execution_count": 73,
   "metadata": {},
   "outputs": [
    {
     "data": {
      "image/png": "[encoded data removed]",
      "text/plain": [
       "<matplotlib.figure.Figure at 0x7fd25a5256a0>"
      ]
     },
     "metadata": {},
     "output_type": "display_data"
    }
   ],
   "source": [
    "dados.plot(kind = \"hist\", x = \"Rateio_Quadra\", y = \"Ganhadores_Quadra\", range = (0, 25000))\n",
    "plt.show()"
   ]
  }
 ],
 "metadata": {
  "kernelspec": {
   "display_name": "Python 3",
   "language": "python",
   "name": "python3"
  },
  "language_info": {
   "codemirror_mode": {
    "name": "ipython",
    "version": 3
   },
   "file_extension": ".py",
   "mimetype": "text/x-python",
   "name": "python",
   "nbconvert_exporter": "python",
   "pygments_lexer": "ipython3",
   "version": "3.6.4"
  }
 },
 "nbformat": 4,
 "nbformat_minor": 2
}
